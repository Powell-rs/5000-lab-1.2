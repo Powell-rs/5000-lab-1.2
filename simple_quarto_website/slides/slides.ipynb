{
 "cells": [
  {
   "cell_type": "markdown",
   "metadata": {},
   "source": [
    "---\n",
    "title: \"Slides\"\n",
    "author: \"Powell Sheagren\"\n",
    "format: revealjs\n",
    "bibliography: ../reference.bib\n",
    "---\n",
    "\n",
    "## test 1\n",
    "\n",
    "Checking out slide, this format is pretty awesome actually\n",
    "\n",
    "\n",
    "## Code Block\n",
    "\n",
    "```{python}\n",
    "#| echo: true\n",
    "\n",
    "import numpy as np\n",
    "import matplotlib.pyplot as plt\n",
    "\n",
    "r = np.arange(0, 2, 0.01)\n",
    "theta = 2 * np.pi * r\n",
    "fig, ax = plt.subplots(subplot_kw={\"projection\": \"polar\"})\n",
    "ax.plot(theta, r)\n",
    "ax.set_rticks([0.5, 1, 1.5, 2])\n",
    "ax.grid(True)\n",
    "plt.show()\n",
    "```\n",
    "\n",
    "## Citation test\n",
    "\n",
    "yeah this is a source [see @fordyce1983program, pp. 10-12]\n",
    "\n",
    "## Image 1 {background-color=\"black\" background-image=\"images/Neutron.jpg\" background-size=\"100px\" background-repeat=\"repeat\"}\n",
    "\n",
    "## Image 2\n",
    "\n",
    "![](images/Persian_Dreams_Spread.jpg)\n",
    "\n",
    "## I think this is where sources end up"
   ]
  }
 ],
 "metadata": {
  "language_info": {
   "name": "python"
  },
  "orig_nbformat": 4
 },
 "nbformat": 4,
 "nbformat_minor": 2
}
